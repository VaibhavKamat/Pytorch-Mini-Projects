{
 "cells": [
  {
   "cell_type": "code",
   "execution_count": 33,
   "id": "threatened-photographer",
   "metadata": {},
   "outputs": [],
   "source": [
    "#!pip install torchvision\n",
    "import torch\n",
    "import torch.nn as nn\n",
    "import torchvision.datasets as datasets \n",
    "import torchvision.transforms as transforms"
   ]
  },
  {
   "cell_type": "code",
   "execution_count": 34,
   "id": "confidential-concept",
   "metadata": {},
   "outputs": [],
   "source": [
    "input_size = 784        #Number of input neurons (image pixels)\n",
    "hidden_size = 400       #Number of hidden neurons\n",
    "out_size = 10           #Number of classes (0-9) \n",
    "epochs = 10            #How many times we pass our entire dataset into our network \n",
    "batch_size = 100        #Input size of the data during one iteration \n",
    "learning_rate = 0.001   #How fast we are learning"
   ]
  },
  {
   "cell_type": "code",
   "execution_count": 35,
   "id": "polar-classroom",
   "metadata": {},
   "outputs": [],
   "source": [
    "train_dataset = datasets.MNIST(root='./data', train=True,transform=transforms.ToTensor(), download=True)\n",
    "\n",
    "test_dataset = datasets.MNIST(root='./data', train=False, transform=transforms.ToTensor())"
   ]
  },
  {
   "cell_type": "code",
   "execution_count": 36,
   "id": "ambient-crack",
   "metadata": {},
   "outputs": [],
   "source": [
    "train_loader = torch.utils.data.DataLoader(dataset=train_dataset, batch_size=batch_size, shuffle=True)\n",
    "\n",
    "test_loader = torch.utils.data.DataLoader(dataset=test_dataset, batch_size=batch_size, shuffle=False)"
   ]
  },
  {
   "cell_type": "code",
   "execution_count": 37,
   "id": "ruled-transparency",
   "metadata": {},
   "outputs": [],
   "source": [
    "class Model(nn.Module):\n",
    "    def __init__(self, input_neurons, hidden_neurons, output_neurons=10):\n",
    "        super(Model, self).__init__()\n",
    "        \n",
    "        self.fc1 = nn.Linear(input_neurons, hidden_neurons) # input layer\n",
    "        self.fc2 = nn.Linear(hidden_neurons, hidden_neurons) # hidden layer\n",
    "        self.output_layer = nn.Linear(hidden_neurons, output_neurons) # output layer\n",
    "        \n",
    "        self.ReLU = nn.ReLU()\n",
    "        self.init_weights()\n",
    "\n",
    "    def init_weights(self):\n",
    "        nn.init.kaiming_normal_(self.fc1.weight)\n",
    "        nn.init.kaiming_normal_(self.fc2.weight)\n",
    "        \n",
    "    def forward(self, X):\n",
    "        out = self.fc1(X)\n",
    "        out = self.ReLU(out)\n",
    "        out = self.fc2(out)\n",
    "        out = self.ReLU(out)\n",
    "        out = self.output_layer(out)\n",
    "        \n",
    "        return out"
   ]
  },
  {
   "cell_type": "code",
   "execution_count": 38,
   "id": "representative-thursday",
   "metadata": {},
   "outputs": [],
   "source": [
    "model = Model(input_size, hidden_size, out_size)\n",
    "\n",
    "CUDA = torch.cuda.is_available() # Check if CUDA GPU device(s) are available\n",
    "\n",
    "if CUDA: # If it is available\n",
    "    model = model.cuda()\n",
    "    \n",
    "loss_function = nn.CrossEntropyLoss() # defining the loss function\n",
    "optimizer = torch.optim.Adam(model.parameters(), lr=learning_rate) # initializing the Adam optimizer"
   ]
  },
  {
   "cell_type": "code",
   "execution_count": 39,
   "id": "practical-agreement",
   "metadata": {},
   "outputs": [
    {
     "name": "stdout",
     "output_type": "stream",
     "text": [
      "Epoch [1/10], Training Loss: 0.238, Training Accuracy: 93.038%\n",
      "Epoch [2/10], Training Loss: 0.085, Training Accuracy: 97.340%\n",
      "Epoch [3/10], Training Loss: 0.053, Training Accuracy: 98.355%\n",
      "Epoch [4/10], Training Loss: 0.038, Training Accuracy: 98.795%\n",
      "Epoch [5/10], Training Loss: 0.029, Training Accuracy: 99.045%\n",
      "Epoch [6/10], Training Loss: 0.024, Training Accuracy: 99.205%\n",
      "Epoch [7/10], Training Loss: 0.018, Training Accuracy: 99.382%\n",
      "Epoch [8/10], Training Loss: 0.017, Training Accuracy: 99.423%\n",
      "Epoch [9/10], Training Loss: 0.012, Training Accuracy: 99.582%\n",
      "Epoch [10/10], Training Loss: 0.017, Training Accuracy: 99.448%\n"
     ]
    }
   ],
   "source": [
    "# Train the network\n",
    "for epoch in range(epochs):\n",
    "    correct_train = 0\n",
    "    running_loss = 0    \n",
    "    for i, (images, labels) in enumerate(train_loader):\n",
    "        images = images.view(-1, 784) # flatten the image. 28*28 -> 784\n",
    "        \n",
    "        if CUDA: # If you have a CUDA device \n",
    "            images = images.cuda()\n",
    "            labels = labels.cuda()\n",
    "        \n",
    "        outputs = model(images) # Get the outputs by feeding the images to the model\n",
    "        _, predicted = torch.max(outputs.data, 1) # Get the indexes of the max value in each model output                                         \n",
    "        correct_train += (predicted == labels).sum() # Get the count of the correct predictions\n",
    "\n",
    "        optimizer.zero_grad() # Clear the residual gradients\n",
    "        loss = loss_function(outputs, labels) # Calculate the loss function\n",
    "        running_loss += loss.item() # add the loss at each batch\n",
    "        loss.backward() # backpropagate the loss and calculate the gradients\n",
    "        optimizer.step() # Update the weights of the model parameters\n",
    "        \n",
    "    print('Epoch [{}/{}], Training Loss: {:.3f}, Training Accuracy: {:.3f}%'.format\n",
    "          (epoch+1, epochs, running_loss/len(train_loader), (100*correct_train.double()/len(train_dataset))))\n",
    "            \n",
    "        \n",
    "        \n",
    "        "
   ]
  },
  {
   "cell_type": "code",
   "execution_count": 41,
   "id": "instrumental-chaos",
   "metadata": {},
   "outputs": [
    {
     "name": "stdout",
     "output_type": "stream",
     "text": [
      "Accuracy of the network on the 10000 test images: 97.87 %\n"
     ]
    }
   ],
   "source": [
    "with torch.no_grad():\n",
    "    correct = 0\n",
    "    for images, labels in test_loader:\n",
    "        images = images.view(-1, 784)\n",
    "        \n",
    "        if CUDA:\n",
    "            images = images.cuda()\n",
    "            labels = labels.cuda()\n",
    "            \n",
    "        outputs = model(images)\n",
    "        _, predicted = torch.max(outputs.data, 1)\n",
    "        correct += (predicted == labels).sum().item()\n",
    "\n",
    "    print('Accuracy of the network on the 10000 test images: {} %'.format(100 * correct / len(test_dataset)))"
   ]
  },
  {
   "cell_type": "code",
   "execution_count": null,
   "id": "super-sussex",
   "metadata": {},
   "outputs": [],
   "source": []
  }
 ],
 "metadata": {
  "kernelspec": {
   "display_name": "Python 3",
   "language": "python",
   "name": "python3"
  },
  "language_info": {
   "codemirror_mode": {
    "name": "ipython",
    "version": 3
   },
   "file_extension": ".py",
   "mimetype": "text/x-python",
   "name": "python",
   "nbconvert_exporter": "python",
   "pygments_lexer": "ipython3",
   "version": "3.7.9"
  }
 },
 "nbformat": 4,
 "nbformat_minor": 5
}
